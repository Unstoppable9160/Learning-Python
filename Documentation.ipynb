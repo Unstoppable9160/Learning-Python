{
 "cells": [
  {
   "cell_type": "markdown",
   "metadata": {},
   "source": [
    "# Learning Python\n",
    "\n",
    "## print()\n",
    "This is used to print stuff to the output window."
   ]
  },
  {
   "cell_type": "code",
   "execution_count": 3,
   "metadata": {},
   "outputs": [
    {
     "name": "stdout",
     "output_type": "stream",
     "text": [
      "Hello World\n",
      "Hello World\n",
      "-----\n",
      "3\n",
      "1 + 2\n"
     ]
    }
   ],
   "source": [
    "print(\"Hello World\") # o => Hello World\n",
    "print(\"Hello\" + \" \" + \"World\") # o => Hello World\n",
    "print(\"-\" * 5) # o => -----\n",
    "print(1 + 2) # o => 3\n",
    "print(\"1 + 2\") # o => 1 + 2"
   ]
  },
  {
   "cell_type": "markdown",
   "metadata": {},
   "source": [
    "## Variables\n",
    "\n",
    "There are 5 main data types in python. Lists contain values, Int is short for integers, Float is short for floating point number i.e: decimal numbers, Str is shot for string i.e: anything in quotes, Bool is short for boolean values i.e: True and False."
   ]
  },
  {
   "cell_type": "code",
   "execution_count": 4,
   "metadata": {},
   "outputs": [],
   "source": [
    "String = \"str\"\n",
    "Integer = 1\n",
    "Float = -0.5\n",
    "Bool = True\n",
    "Lists = [1, \"two\", True, 0.69]"
   ]
  },
  {
   "cell_type": "markdown",
   "metadata": {},
   "source": [
    "## Importing from other files\n",
    "```py\n",
    "import \"path/to/other/file.py\"\n",
    "from \"file.py\" import stuff as a\n",
    "```"
   ]
  },
  {
   "cell_type": "markdown",
   "metadata": {},
   "source": [
    "## Loops\n",
    "Loops allow you to loop certain actions\n",
    "There are 2 main types of loops"
   ]
  },
  {
   "cell_type": "markdown",
   "metadata": {},
   "source": [
    "### For Loop"
   ]
  },
  {
   "cell_type": "code",
   "execution_count": 2,
   "metadata": {},
   "outputs": [
    {
     "name": "stdout",
     "output_type": "stream",
     "text": [
      "0\n",
      "1\n",
      "2\n",
      "3\n",
      "4\n"
     ]
    }
   ],
   "source": [
    "for i in range(5):\n",
    "    print(f\"{i}\")"
   ]
  },
  {
   "cell_type": "markdown",
   "metadata": {},
   "source": [
    "### While Loop"
   ]
  },
  {
   "cell_type": "code",
   "execution_count": 1,
   "metadata": {},
   "outputs": [
    {
     "name": "stdout",
     "output_type": "stream",
     "text": [
      "This runs infinitly unless you tell it to stop\n",
      "This runs infinitly unless you tell it to stop\n",
      "This runs infinitly unless you tell it to stop\n",
      "This runs infinitly unless you tell it to stop\n",
      "This runs infinitly unless you tell it to stop\n",
      "This runs infinitly unless you tell it to stop\n"
     ]
    }
   ],
   "source": [
    "j = 0\n",
    "while j <= 5:\n",
    "    print(\"This runs infinitly unless you tell it to stop\")\n",
    "    j = j+1"
   ]
  },
  {
   "cell_type": "markdown",
   "metadata": {},
   "source": [
    "## Functions\n",
    "\n",
    "Functions in python are used so that you dont have to re-write the same bit of code over and over again.\n",
    "\n",
    "In the arguments you can specify 3 things, the name of the argument, the type that the argument must be in and the default value that it is set to."
   ]
  },
  {
   "cell_type": "code",
   "execution_count": 6,
   "metadata": {},
   "outputs": [
    {
     "name": "stdout",
     "output_type": "stream",
     "text": [
      "default value, 0\n",
      "weeeeee, 31\n"
     ]
    }
   ],
   "source": [
    "def myFunction(argument1: str = \"default value\", argument2: int = 0):\n",
    "    print(f\"{argument1}, {argument2}\")\n",
    "\n",
    "\n",
    "# This is how to call a function\n",
    "myFunction()\n",
    "\n",
    "# Now i am going to pass in coustom arguments\n",
    "myFunction(\"weeeeee\", 31)"
   ]
  }
 ],
 "metadata": {
  "interpreter": {
   "hash": "3f7965bce5766870271368176da5d9d9dd50feebf85ddfb97dcf37b6dd6417f2"
  },
  "kernelspec": {
   "display_name": "Python 3.8.8 ('base')",
   "language": "python",
   "name": "python3"
  },
  "language_info": {
   "codemirror_mode": {
    "name": "ipython",
    "version": 3
   },
   "file_extension": ".py",
   "mimetype": "text/x-python",
   "name": "python",
   "nbconvert_exporter": "python",
   "pygments_lexer": "ipython3",
   "version": "3.8.8"
  },
  "orig_nbformat": 4
 },
 "nbformat": 4,
 "nbformat_minor": 2
}
